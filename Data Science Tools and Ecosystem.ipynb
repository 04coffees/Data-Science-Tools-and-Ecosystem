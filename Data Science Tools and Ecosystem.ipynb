{
 "cells": [
  {
   "cell_type": "markdown",
   "id": "64b37c41",
   "metadata": {},
   "source": [
    "Data Science Tools and Ecosystem"
   ]
  },
  {
   "cell_type": "markdown",
   "id": "969f74fa",
   "metadata": {},
   "source": [
    "This notebook will summerize data science tools and the ecosystem, I hope you enjoy."
   ]
  },
  {
   "cell_type": "markdown",
   "id": "e166b180",
   "metadata": {},
   "source": [
    "Some of the most popular languages for data science are:\n",
    "    1. Python\n",
    "    2. Java\n",
    "    3. C++\n",
    "    4. SQL"
   ]
  },
  {
   "cell_type": "markdown",
   "id": "7489d217",
   "metadata": {},
   "source": [
    "Some of the most popular libraries amoung data scientists are:\n",
    "    1. Pandas\n",
    "    2. NumPy\n",
    "    3. SciPy\n",
    "    4. Matplotlib"
   ]
  },
  {
   "cell_type": "markdown",
   "id": "748b4898",
   "metadata": {},
   "source": [
    "Some of the most popular tools amoung data scientists are:\n",
    "    1. Python\n",
    "    2. Microsoft Excel\n",
    "    3. JupiterNotebook\n",
    "    4. GoogleAnalytics"
   ]
  },
  {
   "cell_type": "markdown",
   "id": "cb998709",
   "metadata": {},
   "source": [
    "A couple of common arithmetic expression examples in python are:\n",
    "    (assume a=20 and b=40)\n",
    "    1. addition ------------- a + b = 60\n",
    "    2. subtraction ---------- a - b = -20\n",
    "    3. multipication--------- a * b = 800"
   ]
  },
  {
   "cell_type": "code",
   "execution_count": 3,
   "id": "e3536193",
   "metadata": {
    "scrolled": true
   },
   "outputs": [
    {
     "data": {
      "text/plain": [
       "800"
      ]
     },
     "execution_count": 3,
     "metadata": {},
     "output_type": "execute_result"
    }
   ],
   "source": [
    "# This covers simple arthmitic expressions for both adding and muntiplying \n",
    "20 + 40\n",
    "20 * 40"
   ]
  },
  {
   "cell_type": "code",
   "execution_count": 4,
   "id": "7cfda92b",
   "metadata": {},
   "outputs": [],
   "source": [
    "# This code line converts minutes (500) into hours\n",
    "500 / 60"
   ]
  },
  {
   "cell_type": "markdown",
   "id": "d1e1f2c2",
   "metadata": {},
   "source": [
    "Objectives of this note book:\n",
    "    1.) List common languages for data analysts \n",
    "    2.) List common libraries for data alalysts\n",
    "    3.) List common tools for data anylists\n",
    "    4.) List common codelines for data analysts\n",
    "    5.) Domonstrade Jupiter skills and knowlege of these topics"
   ]
  },
  {
   "cell_type": "markdown",
   "id": "740f5684",
   "metadata": {},
   "source": [
    "Peter Cline"
   ]
  }
 ],
 "metadata": {
  "kernelspec": {
   "display_name": "Python 3 (ipykernel)",
   "language": "python",
   "name": "python3"
  },
  "language_info": {
   "codemirror_mode": {
    "name": "ipython",
    "version": 3
   },
   "file_extension": ".py",
   "mimetype": "text/x-python",
   "name": "python",
   "nbconvert_exporter": "python",
   "pygments_lexer": "ipython3",
   "version": "3.9.13"
  }
 },
 "nbformat": 4,
 "nbformat_minor": 5
}
